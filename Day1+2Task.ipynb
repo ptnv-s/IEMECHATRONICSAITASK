{
 "cells": [
  {
   "cell_type": "code",
   "execution_count": 45,
   "metadata": {},
   "outputs": [],
   "source": [
    "import numpy as np"
   ]
  },
  {
   "cell_type": "code",
   "execution_count": 46,
   "metadata": {},
   "outputs": [],
   "source": [
    "import pandas as pd"
   ]
  },
  {
   "cell_type": "code",
   "execution_count": 47,
   "metadata": {},
   "outputs": [],
   "source": [
    "xtrain = pd.read_excel('canada_per_capita_income.xlsx',header=None,usecols=\"A\")"
   ]
  },
  {
   "cell_type": "code",
   "execution_count": 48,
   "metadata": {},
   "outputs": [],
   "source": [
    "ytrain = pd.read_excel('canada_per_capita_income.xlsx',header=None,usecols=\"B\")"
   ]
  },
  {
   "cell_type": "code",
   "execution_count": 49,
   "metadata": {},
   "outputs": [
    {
     "name": "stdout",
     "output_type": "stream",
     "text": [
      "       0\n",
      "0   year\n",
      "1   1970\n",
      "2   1971\n",
      "3   1972\n",
      "4   1973\n",
      "5   1974\n",
      "6   1975\n",
      "7   1976\n",
      "8   1977\n",
      "9   1978\n",
      "10  1979\n",
      "11  1980\n",
      "12  1981\n",
      "13  1982\n",
      "14  1983\n",
      "15  1984\n",
      "16  1985\n",
      "17  1986\n",
      "18  1987\n",
      "19  1988\n",
      "20  1989\n",
      "21  1990\n",
      "22  1991\n",
      "23  1992\n",
      "24  1993\n",
      "25  1994\n",
      "26  1995\n",
      "27  1996\n",
      "28  1997\n",
      "29  1998\n",
      "30  1999\n",
      "31  2000\n",
      "32  2001\n",
      "33  2002\n",
      "34  2003\n",
      "35  2004\n",
      "36  2005\n",
      "37  2006\n",
      "38  2007\n",
      "39  2008\n",
      "40  2009\n",
      "41  2010\n",
      "42  2011\n",
      "43  2012\n",
      "44  2013\n",
      "45  2014\n",
      "46  2015\n",
      "47  2016\n"
     ]
    }
   ],
   "source": [
    "print(xtrain)"
   ]
  },
  {
   "cell_type": "code",
   "execution_count": 50,
   "metadata": {},
   "outputs": [
    {
     "name": "stdout",
     "output_type": "stream",
     "text": [
      "                          1\n",
      "0   per capita income (US$)\n",
      "1                    4633.3\n",
      "2                    5002.3\n",
      "3                   5485.18\n",
      "4                   6038.46\n",
      "5                   6810.51\n",
      "6                   7232.14\n",
      "7                   8296.13\n",
      "8                   8334.13\n",
      "9                   8481.97\n",
      "10                  8836.91\n",
      "11                  9589.97\n",
      "12                  10668.4\n",
      "13                  10853.4\n",
      "14                  11650.5\n",
      "15                  12024.3\n",
      "16                    12253\n",
      "17                  12716.9\n",
      "18                  14208.8\n",
      "19                  16314.3\n",
      "20                  17660.7\n",
      "21                  18072.7\n",
      "22                  18500.1\n",
      "23                  17646.1\n",
      "24                  17109.6\n",
      "25                  16989.8\n",
      "26                  17603.3\n",
      "27                  17933.8\n",
      "28                  18544.8\n",
      "29                  17856.7\n",
      "30                    18815\n",
      "31                  20221.4\n",
      "32                  19835.4\n",
      "33                  20466.2\n",
      "34                  23973.4\n",
      "35                  26953.1\n",
      "36                  30432.1\n",
      "37                  33972.3\n",
      "38                  37378.5\n",
      "39                  38680.5\n",
      "40                  33989.2\n",
      "41                  39654.5\n",
      "42                  43568.7\n",
      "43                  43899.3\n",
      "44                  43910.5\n",
      "45                  42273.9\n",
      "46                  36409.2\n",
      "47                  35463.2\n"
     ]
    }
   ],
   "source": [
    "print(ytrain)"
   ]
  },
  {
   "cell_type": "code",
   "execution_count": null,
   "metadata": {},
   "outputs": [],
   "source": []
  },
  {
   "cell_type": "code",
   "execution_count": null,
   "metadata": {},
   "outputs": [],
   "source": []
  }
 ],
 "metadata": {
  "kernelspec": {
   "display_name": "Python 3",
   "language": "python",
   "name": "python3"
  },
  "language_info": {
   "codemirror_mode": {
    "name": "ipython",
    "version": 3
   },
   "file_extension": ".py",
   "mimetype": "text/x-python",
   "name": "python",
   "nbconvert_exporter": "python",
   "pygments_lexer": "ipython3",
   "version": "3.8.5"
  }
 },
 "nbformat": 4,
 "nbformat_minor": 4
}
