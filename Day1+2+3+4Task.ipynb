{
 "cells": [
  {
   "cell_type": "code",
   "execution_count": 108,
   "metadata": {},
   "outputs": [],
   "source": [
    "import numpy as np"
   ]
  },
  {
   "cell_type": "code",
   "execution_count": 109,
   "metadata": {},
   "outputs": [],
   "source": [
    "import pandas as pd"
   ]
  },
  {
   "cell_type": "code",
   "execution_count": 110,
   "metadata": {},
   "outputs": [],
   "source": [
    "import matplotlib.pyplot as plt"
   ]
  },
  {
   "cell_type": "code",
   "execution_count": 111,
   "metadata": {},
   "outputs": [],
   "source": [
    "xtrain = pd.read_excel('canada_per_capita_income.xlsx',header=None,usecols=\"A\")"
   ]
  },
  {
   "cell_type": "code",
   "execution_count": 112,
   "metadata": {},
   "outputs": [],
   "source": [
    "ytrain = pd.read_excel('canada_per_capita_income.xlsx',header=None,usecols=\"B\")"
   ]
  },
  {
   "cell_type": "code",
   "execution_count": 113,
   "metadata": {},
   "outputs": [],
   "source": [
    "xtrain=xtrain.drop([0],axis=0)"
   ]
  },
  {
   "cell_type": "code",
   "execution_count": 114,
   "metadata": {},
   "outputs": [],
   "source": [
    "ytrain=ytrain.drop([0],axis=0)"
   ]
  },
  {
   "cell_type": "code",
   "execution_count": 115,
   "metadata": {},
   "outputs": [
    {
     "name": "stdout",
     "output_type": "stream",
     "text": [
      "       0\n",
      "1   1970\n",
      "2   1971\n",
      "3   1972\n",
      "4   1973\n",
      "5   1974\n",
      "6   1975\n",
      "7   1976\n",
      "8   1977\n",
      "9   1978\n",
      "10  1979\n",
      "11  1980\n",
      "12  1981\n",
      "13  1982\n",
      "14  1983\n",
      "15  1984\n",
      "16  1985\n",
      "17  1986\n",
      "18  1987\n",
      "19  1988\n",
      "20  1989\n",
      "21  1990\n",
      "22  1991\n",
      "23  1992\n",
      "24  1993\n",
      "25  1994\n",
      "26  1995\n",
      "27  1996\n",
      "28  1997\n",
      "29  1998\n",
      "30  1999\n",
      "31  2000\n",
      "32  2001\n",
      "33  2002\n",
      "34  2003\n",
      "35  2004\n",
      "36  2005\n",
      "37  2006\n",
      "38  2007\n",
      "39  2008\n",
      "40  2009\n",
      "41  2010\n",
      "42  2011\n",
      "43  2012\n",
      "44  2013\n",
      "45  2014\n",
      "46  2015\n",
      "47  2016\n"
     ]
    }
   ],
   "source": [
    "print(xtrain)"
   ]
  },
  {
   "cell_type": "code",
   "execution_count": 116,
   "metadata": {},
   "outputs": [
    {
     "name": "stdout",
     "output_type": "stream",
     "text": [
      "          1\n",
      "1    4633.3\n",
      "2    5002.3\n",
      "3   5485.18\n",
      "4   6038.46\n",
      "5   6810.51\n",
      "6   7232.14\n",
      "7   8296.13\n",
      "8   8334.13\n",
      "9   8481.97\n",
      "10  8836.91\n",
      "11  9589.97\n",
      "12  10668.4\n",
      "13  10853.4\n",
      "14  11650.5\n",
      "15  12024.3\n",
      "16    12253\n",
      "17  12716.9\n",
      "18  14208.8\n",
      "19  16314.3\n",
      "20  17660.7\n",
      "21  18072.7\n",
      "22  18500.1\n",
      "23  17646.1\n",
      "24  17109.6\n",
      "25  16989.8\n",
      "26  17603.3\n",
      "27  17933.8\n",
      "28  18544.8\n",
      "29  17856.7\n",
      "30    18815\n",
      "31  20221.4\n",
      "32  19835.4\n",
      "33  20466.2\n",
      "34  23973.4\n",
      "35  26953.1\n",
      "36  30432.1\n",
      "37  33972.3\n",
      "38  37378.5\n",
      "39  38680.5\n",
      "40  33989.2\n",
      "41  39654.5\n",
      "42  43568.7\n",
      "43  43899.3\n",
      "44  43910.5\n",
      "45  42273.9\n",
      "46  36409.2\n",
      "47  35463.2\n"
     ]
    }
   ],
   "source": [
    "print(ytrain)"
   ]
  },
  {
   "cell_type": "code",
   "execution_count": 117,
   "metadata": {},
   "outputs": [
    {
     "data": {
      "text/plain": [
       "pandas.core.frame.DataFrame"
      ]
     },
     "execution_count": 117,
     "metadata": {},
     "output_type": "execute_result"
    }
   ],
   "source": [
    "type(xtrain)"
   ]
  },
  {
   "cell_type": "code",
   "execution_count": 118,
   "metadata": {},
   "outputs": [],
   "source": [
    "xt=xtrain.to_numpy()"
   ]
  },
  {
   "cell_type": "code",
   "execution_count": 119,
   "metadata": {},
   "outputs": [
    {
     "name": "stdout",
     "output_type": "stream",
     "text": [
      "[[1970]\n",
      " [1971]\n",
      " [1972]\n",
      " [1973]\n",
      " [1974]\n",
      " [1975]\n",
      " [1976]\n",
      " [1977]\n",
      " [1978]\n",
      " [1979]\n",
      " [1980]\n",
      " [1981]\n",
      " [1982]\n",
      " [1983]\n",
      " [1984]\n",
      " [1985]\n",
      " [1986]\n",
      " [1987]\n",
      " [1988]\n",
      " [1989]\n",
      " [1990]\n",
      " [1991]\n",
      " [1992]\n",
      " [1993]\n",
      " [1994]\n",
      " [1995]\n",
      " [1996]\n",
      " [1997]\n",
      " [1998]\n",
      " [1999]\n",
      " [2000]\n",
      " [2001]\n",
      " [2002]\n",
      " [2003]\n",
      " [2004]\n",
      " [2005]\n",
      " [2006]\n",
      " [2007]\n",
      " [2008]\n",
      " [2009]\n",
      " [2010]\n",
      " [2011]\n",
      " [2012]\n",
      " [2013]\n",
      " [2014]\n",
      " [2015]\n",
      " [2016]]\n"
     ]
    }
   ],
   "source": [
    "print(xt)"
   ]
  },
  {
   "cell_type": "code",
   "execution_count": 120,
   "metadata": {},
   "outputs": [
    {
     "name": "stdout",
     "output_type": "stream",
     "text": [
      "[[4633.299037]\n",
      " [5002.297935]\n",
      " [5485.175484]\n",
      " [6038.463248]\n",
      " [6810.514583]\n",
      " [7232.144346]\n",
      " [8296.131392]\n",
      " [8334.12617]\n",
      " [8481.967035]\n",
      " [8836.912681]\n",
      " [9589.96812]\n",
      " [10668.39065]\n",
      " [10853.43838]\n",
      " [11650.53659]\n",
      " [12024.32872]\n",
      " [12252.95585]\n",
      " [12716.89153]\n",
      " [14208.80662]\n",
      " [16314.28345]\n",
      " [17660.72548]\n",
      " [18072.6732]\n",
      " [18500.09769]\n",
      " [17646.08309]\n",
      " [17109.58673]\n",
      " [16989.82027]\n",
      " [17603.31725]\n",
      " [17933.82668]\n",
      " [18544.75775]\n",
      " [17856.67187]\n",
      " [18815.02414]\n",
      " [20221.38241]\n",
      " [19835.39724]\n",
      " [20466.17556]\n",
      " [23973.42628]\n",
      " [26953.14715]\n",
      " [30432.05569]\n",
      " [33972.2629]\n",
      " [37378.48122]\n",
      " [38680.48609]\n",
      " [33989.17682]\n",
      " [39654.52289]\n",
      " [43568.71121]\n",
      " [43899.25597]\n",
      " [43910.46837]\n",
      " [42273.8936]\n",
      " [36409.18898]\n",
      " [35463.19363]]\n"
     ]
    }
   ],
   "source": [
    "yt=ytrain.to_numpy()\n",
    "print(yt)"
   ]
  },
  {
   "cell_type": "code",
   "execution_count": 121,
   "metadata": {},
   "outputs": [
    {
     "data": {
      "text/plain": [
       "[<matplotlib.lines.Line2D at 0x7fbe97116040>]"
      ]
     },
     "execution_count": 121,
     "metadata": {},
     "output_type": "execute_result"
    },
    {
     "data": {
      "image/png": "[encoded data removed]",
      "text/plain": [
       "<Figure size 432x288 with 1 Axes>"
      ]
     },
     "metadata": {
      "needs_background": "light"
     },
     "output_type": "display_data"
    }
   ],
   "source": [
    "plt.plot(xt,yt)"
   ]
  },
  {
   "cell_type": "code",
   "execution_count": 122,
   "metadata": {},
   "outputs": [],
   "source": [
    "plt.show()"
   ]
  },
  {
   "cell_type": "code",
   "execution_count": null,
   "metadata": {},
   "outputs": [],
   "source": []
  },
  {
   "cell_type": "code",
   "execution_count": null,
   "metadata": {},
   "outputs": [],
   "source": []
  }
 ],
 "metadata": {
  "kernelspec": {
   "display_name": "Python 3",
   "language": "python",
   "name": "python3"
  },
  "language_info": {
   "codemirror_mode": {
    "name": "ipython",
    "version": 3
   },
   "file_extension": ".py",
   "mimetype": "text/x-python",
   "name": "python",
   "nbconvert_exporter": "python",
   "pygments_lexer": "ipython3",
   "version": "3.8.5"
  }
 },
 "nbformat": 4,
 "nbformat_minor": 4
}
